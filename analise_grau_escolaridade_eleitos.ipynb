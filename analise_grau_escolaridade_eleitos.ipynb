{
 "cells": [
  {
   "cell_type": "markdown",
   "metadata": {},
   "source": [
    "# Análise de Grau de Escolaridade e Resultados das Eleições\n",
    "Este notebook analisa como o grau de escolaridade dos candidatos está relacionado aos resultados das eleições ao longo do tempo."
   ]
  },
  {
   "cell_type": "code",
   "execution_count": null,
   "metadata": {},
   "outputs": [],
   "source": [
    "# Importando bibliotecas necessárias\n",
    "import pandas as pd\n",
    "import matplotlib.pyplot as plt\n",
    "import seaborn as sns\n",
    "\n",
    "# Configurando estilo de visualização\n",
    "sns.set_theme(style=\"whitegrid\")"
   ]
  },
  {
   "cell_type": "markdown",
   "metadata": {},
   "source": [
    "## Carregar os dados"
   ]
  },
  {
   "cell_type": "code",
   "execution_count": null,
   "metadata": {},
   "outputs": [],
   "source": [
    "arquivo_csv = 'dataset_final_consolidado.csv'\n",
    "dados = pd.read_csv(arquivo_csv)\n",
    "\n",
    "# Verificando as primeiras linhas do dataset\n",
    "dados.head()"
   ]
  },
  {
   "cell_type": "markdown",
   "metadata": {},
   "source": [
    "## Filtrar os dados\n",
    "Consideramos apenas candidatos eleitos, ou seja, aqueles com os seguintes valores em `DS_SIT_TOT_TURNO`:\n",
    "- 'ELEITO'\n",
    "- 'ELEITO POR QP'\n",
    "- 'ELEITO POR MÉDIA'"
   ]
  },
  {
   "cell_type": "code",
   "execution_count": null,
   "metadata": {},
   "outputs": [],
   "source": [
    "# Filtrando apenas candidatos eleitos\n",
    "filtro_eleitos = dados['DS_SIT_TOT_TURNO'].isin(['ELEITO', 'ELEITO POR QP', 'ELEITO POR MÉDIA'])\n",
    "dados_eleitos = dados[filtro_eleitos]\n",
    "\n",
    "# Verificando os dados filtrados\n",
    "dados_eleitos.head()"
   ]
  },
  {
   "cell_type": "markdown",
   "metadata": {},
   "source": [
    "## Contar candidatos eleitos por grau de escolaridade e ano"
   ]
  },
  {
   "cell_type": "code",
   "execution_count": null,
   "metadata": {},
   "outputs": [],
   "source": [
    "# Agrupar por ano e grau de instrução, contando o número de candidatos eleitos\n",
    "resultado = dados_eleitos.groupby(['ANO_ELEICAO', 'DS_GRAU_INSTRUCAO'])['SQ_CANDIDATO'].count().reset_index()\n",
    "resultado.rename(columns={'SQ_CANDIDATO': 'QUANTIDADE_ELEITOS'}, inplace=True)\n",
    "\n",
    "# Exibir os resultados\n",
    "resultado.head()"
   ]
  },
  {
   "cell_type": "markdown",
   "metadata": {},
   "source": [
    "## Visualizar os dados (opcional)\n",
    "Vamos criar um gráfico de barras para facilitar a análise."
   ]
  },
  {
   "cell_type": "code",
   "execution_count": null,
   "metadata": {},
   "outputs": [],
   "source": [
    "# Criar um gráfico de barras para visualizar os eleitos por grau de escolaridade ao longo dos anos\n",
    "plt.figure(figsize=(14, 7))\n",
    "sns.barplot(\n",
    "    data=resultado,\n",
    "    x='ANO_ELEICAO', \n",
    "    y='QUANTIDADE_ELEITOS', \n",
    "    hue='DS_GRAU_INSTRUCAO'\n",
    ")\n",
    "plt.title('Candidatos Eleitos por Grau de Escolaridade e Ano')\n",
    "plt.xlabel('Ano da Eleição')\n",
    "plt.ylabel('Quantidade de Eleitos')\n",
    "plt.legend(title='Grau de Escolaridade', bbox_to_anchor=(1.05, 1), loc='upper left')\n",
    "plt.tight_layout()\n",
    "plt.show()"
   ]
  }
 ],
 "metadata": {
  "kernelspec": {
   "display_name": "Python 3",
   "language": "python",
   "name": "python3"
  },
  "language_info": {
   "codemirror_mode": {
    "name": "ipython",
    "version": 3
   },
   "file_extension": ".py",
   "mimetype": "text/x-python",
   "name": "python",
   "nbconvert_exporter": "python",
   "pygments_lexer": "ipython3",
   "version": "3.8.5"
  }
 },
 "nbformat": 4,
 "nbformat_minor": 5
}
